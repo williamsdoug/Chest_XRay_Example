{
 "cells": [
  {
   "cell_type": "markdown",
   "metadata": {},
   "source": [
    "# Creates Downsampled Versions of Library\n",
    "\n",
    "Based on code in: https://docs.fast.ai/vision.transform.html#resize"
   ]
  },
  {
   "cell_type": "code",
   "execution_count": null,
   "metadata": {},
   "outputs": [],
   "source": [
    "%load_ext autoreload\n",
    "%autoreload 2"
   ]
  },
  {
   "cell_type": "code",
   "execution_count": null,
   "metadata": {},
   "outputs": [],
   "source": [
    "from fastai.vision import *\n",
    "from fastai import *\n",
    "import pandas as pd\n",
    "import collections\n",
    "import math\n",
    "from pprint import pprint"
   ]
  },
  {
   "cell_type": "code",
   "execution_count": null,
   "metadata": {},
   "outputs": [],
   "source": [
    "import numpy as np\n",
    "np.random.seed(1234)\n",
    "import torch\n",
    "torch.manual_seed(1234)"
   ]
  },
  {
   "cell_type": "markdown",
   "metadata": {},
   "source": [
    "# Code\n",
    "\n",
    "Note:  Code lifted directly from fastai documentation, with code fixes"
   ]
  },
  {
   "cell_type": "code",
   "execution_count": null,
   "metadata": {},
   "outputs": [],
   "source": [
    "def get_files(suffix=['.jpg', '.jpeg']):\n",
    "    for d in ['train', 'test', 'val']:\n",
    "        sub_dir = images_full / d\n",
    "        for dd in ['NORMAL', 'PNEUMONIA']:\n",
    "            im_dir = sub_dir / dd\n",
    "            for f in im_dir.ls():\n",
    "                if f.suffix in suffix:\n",
    "                    yield f\n",
    "        "
   ]
  },
  {
   "cell_type": "code",
   "execution_count": null,
   "metadata": {},
   "outputs": [],
   "source": [
    "def shrink_dataset(path, src, size, quality=80):\n",
    "    for fn in get_files():\n",
    "        dest = path/fn.relative_to(src)\n",
    "        dest.parent.mkdir(parents=True, exist_ok=True)\n",
    "\n",
    "        if not dest.exists():\n",
    "            img = PIL.Image.open(fn)\n",
    "            img = img.resize((size, size), resample=PIL.Image.BILINEAR).convert('RGB')\n",
    "            img.save(dest, quality=quality)"
   ]
  },
  {
   "cell_type": "markdown",
   "metadata": {},
   "source": [
    "# Config"
   ]
  },
  {
   "cell_type": "code",
   "execution_count": null,
   "metadata": {},
   "outputs": [],
   "source": [
    "PATH = Path('')\n",
    "data_dir = PATH / 'data'\n",
    "images_full = PATH / 'data' / 'chest_xray'\n",
    "images_224 = PATH / 'data' / 'chest_xray_224'"
   ]
  },
  {
   "cell_type": "markdown",
   "metadata": {},
   "source": [
    "# Shrink Dataset"
   ]
  },
  {
   "cell_type": "code",
   "execution_count": null,
   "metadata": {},
   "outputs": [],
   "source": [
    "shrink_dataset(images_224, images_full, 224)"
   ]
  },
  {
   "cell_type": "markdown",
   "metadata": {},
   "source": [
    "# Verify"
   ]
  },
  {
   "cell_type": "code",
   "execution_count": null,
   "metadata": {},
   "outputs": [],
   "source": [
    "print(len((images_224/'train'/'NORMAL').ls()))"
   ]
  },
  {
   "cell_type": "code",
   "execution_count": null,
   "metadata": {},
   "outputs": [],
   "source": [
    "print(len((images_224/'test'/'NORMAL').ls()))"
   ]
  },
  {
   "cell_type": "code",
   "execution_count": null,
   "metadata": {},
   "outputs": [],
   "source": [
    "print(len((images_224/'val'/'NORMAL').ls()))"
   ]
  },
  {
   "cell_type": "code",
   "execution_count": null,
   "metadata": {},
   "outputs": [],
   "source": []
  },
  {
   "cell_type": "code",
   "execution_count": null,
   "metadata": {},
   "outputs": [],
   "source": [
    "z = (images_224/'train'/'NORMAL').ls()\n",
    "z[:3]"
   ]
  },
  {
   "cell_type": "code",
   "execution_count": null,
   "metadata": {},
   "outputs": [],
   "source": []
  }
 ],
 "metadata": {
  "kernelspec": {
   "display_name": "Python [conda env:fastai]",
   "language": "python",
   "name": "conda-env-fastai-py"
  },
  "language_info": {
   "codemirror_mode": {
    "name": "ipython",
    "version": 3
   },
   "file_extension": ".py",
   "mimetype": "text/x-python",
   "name": "python",
   "nbconvert_exporter": "python",
   "pygments_lexer": "ipython3",
   "version": "3.7.3"
  }
 },
 "nbformat": 4,
 "nbformat_minor": 2
}
